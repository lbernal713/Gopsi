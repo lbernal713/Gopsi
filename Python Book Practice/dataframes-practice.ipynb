{
 "cells": [
  {
   "cell_type": "markdown",
   "metadata": {},
   "source": [
    "### Importing Pandas"
   ]
  },
  {
   "cell_type": "code",
   "execution_count": 1,
   "metadata": {},
   "outputs": [],
   "source": [
    "import pandas as pd"
   ]
  },
  {
   "cell_type": "markdown",
   "metadata": {},
   "source": [
    "### Creating Dataframes"
   ]
  },
  {
   "cell_type": "code",
   "execution_count": 2,
   "metadata": {},
   "outputs": [],
   "source": [
    "df = pd.DataFrame()"
   ]
  },
  {
   "cell_type": "code",
   "execution_count": 3,
   "metadata": {},
   "outputs": [
    {
     "name": "stdout",
     "output_type": "stream",
     "text": [
      "Empty DataFrame\n",
      "Columns: []\n",
      "Index: []\n"
     ]
    }
   ],
   "source": [
    "print(df)"
   ]
  },
  {
   "cell_type": "code",
   "execution_count": 4,
   "metadata": {},
   "outputs": [],
   "source": [
    "stats = [['Lebron',4,6],['Kuzma',2,3],['Ball',4,4]]"
   ]
  },
  {
   "cell_type": "code",
   "execution_count": 5,
   "metadata": {},
   "outputs": [],
   "source": [
    "lebron_reb = pd.DataFrame(stats,columns=['player_name','oreb','dreb'],index=['king','scrub','srub2'])"
   ]
  },
  {
   "cell_type": "code",
   "execution_count": 6,
   "metadata": {},
   "outputs": [
    {
     "name": "stdout",
     "output_type": "stream",
     "text": [
      "      player_name  oreb  dreb\n",
      "king       Lebron     4     6\n",
      "scrub       Kuzma     2     3\n",
      "srub2        Ball     4     4\n"
     ]
    }
   ],
   "source": [
    "print(lebron_reb)"
   ]
  },
  {
   "cell_type": "markdown",
   "metadata": {},
   "source": [
    "### Reading CSV files in dataframes"
   ]
  },
  {
   "cell_type": "code",
   "execution_count": 44,
   "metadata": {},
   "outputs": [],
   "source": [
    "rockets_stats_df = pd.read_csv('rockets_player_stats.csv')\n",
    "#pd.read_csv('.../nba_stats_csv/rockets_player_stats.csv')\n",
    "rockets_stats_df = pd.DataFrame(rockets_stats_df)\n",
    "#df = pd.DataFrame(rockets_player_stats, index=['PG','SG','PF','SF','SG','PF','PG','PG','SF','SF','PF','SF','C','F','C','GF','G'])\n"
   ]
  },
  {
   "cell_type": "markdown",
   "metadata": {},
   "source": [
    "#### Show first few rows of the Data Frame"
   ]
  },
  {
   "cell_type": "code",
   "execution_count": 48,
   "metadata": {},
   "outputs": [
    {
     "name": "stdout",
     "output_type": "stream",
     "text": [
      "Index(['Rk', 'Player', 'Age', 'G', 'GS', 'MP', 'FG', 'FGA', 'FG%', '3P', '3PA',\n",
      "       '3P%', '2P', '2PA', '2P%', 'eFG%', 'FT', 'FTA', 'FT%', 'ORB', 'DRB',\n",
      "       'TRB', 'AST', 'STL', 'BLK', 'TOV', 'PF', 'PTS'],\n",
      "      dtype='object')\n"
     ]
    }
   ],
   "source": [
    "#print(rockets_stats_df.head()) # Shows first few rows\n",
    "#print(rockets_stats_df.shape)  # Shows how many rows, column\n",
    "print(rockets_stats_df.columns) # List of columns"
   ]
  },
  {
   "cell_type": "code",
   "execution_count": 59,
   "metadata": {},
   "outputs": [
    {
     "data": {
      "text/plain": [
       "16.5"
      ]
     },
     "execution_count": 59,
     "metadata": {},
     "output_type": "execute_result"
    }
   ],
   "source": [
    "rockets_stats_df.sort_values('PTS', ascending=False) # Sort df by PTS\n",
    "rockets_stats_df.nlargest(5,'PTS') # Top 5 in PTS\n",
    "rockets_stats_df.loc[df['Age'] > 25] # find players in df older than 25\n",
    "rockets_stats_df.loc[df['Age'] > 25, ['Rk','Player','Age','PTS']] # find players in df older than 25, return certain columns\n",
    "rockets_stats_df.iat[0,1] # find single value by index (first row, second colum)\n",
    "rockets_stats_df.at[0,'PTS'] # find value by label - column name"
   ]
  },
  {
   "cell_type": "markdown",
   "metadata": {},
   "source": [
    "### Summarize Data"
   ]
  },
  {
   "cell_type": "code",
   "execution_count": 60,
   "metadata": {},
   "outputs": [
    {
     "data": {
      "text/plain": [
       "17"
      ]
     },
     "execution_count": 60,
     "metadata": {},
     "output_type": "execute_result"
    }
   ],
   "source": [
    "len(rockets_stats_df) # number of rows in df"
   ]
  },
  {
   "cell_type": "code",
   "execution_count": 36,
   "metadata": {},
   "outputs": [
    {
     "name": "stdout",
     "output_type": "stream",
     "text": [
      "0          Fred VanVleet\n",
      "1         Alperen Şengün\n",
      "2       Jabari Smith Jr.\n",
      "3          Dillon Brooks\n",
      "4            Jalen Green\n",
      "5             Tari Eason\n",
      "6          Amen Thompson\n",
      "7          Aaron Holiday\n",
      "8           Cam Whitmore\n",
      "9          Jae'Sean Tate\n",
      "10            Jeff Green\n",
      "11        Reggie Bullock\n",
      "12          Jock Landale\n",
      "13    Jeenathan Williams\n",
      "14      Boban Marjanović\n",
      "15           Nate Hinton\n",
      "16      Jermaine Samuels\n",
      "Name: Player, dtype: object\n"
     ]
    }
   ],
   "source": [
    "print(df['Player'])"
   ]
  },
  {
   "cell_type": "code",
   "execution_count": 16,
   "metadata": {},
   "outputs": [],
   "source": [
    "# Creating a Data Frame\n",
    "player_data = pd.DataFrame({\n",
    "    'player':['LeBron James','Kevin Durant','Chris Paul'],\n",
    "    'points':[23,35,33],\n",
    "    'assists':[6,5,9]\n",
    "})"
   ]
  },
  {
   "cell_type": "code",
   "execution_count": 17,
   "metadata": {},
   "outputs": [
    {
     "name": "stdout",
     "output_type": "stream",
     "text": [
      "         player  points  assists\n",
      "0  LeBron James      23        6\n",
      "1  Kevin Durant      35        5\n",
      "2    Chris Paul      33        9\n"
     ]
    }
   ],
   "source": [
    "print(player_data)"
   ]
  },
  {
   "cell_type": "code",
   "execution_count": 18,
   "metadata": {},
   "outputs": [
    {
     "name": "stdout",
     "output_type": "stream",
     "text": [
      "0    LeBron James\n",
      "1    Kevin Durant\n",
      "2      Chris Paul\n",
      "Name: player, dtype: object\n"
     ]
    }
   ],
   "source": [
    "# Access Specific data\n",
    "player_names = player_data['player']\n",
    "print(player_names)"
   ]
  },
  {
   "cell_type": "code",
   "execution_count": 43,
   "metadata": {},
   "outputs": [
    {
     "name": "stdout",
     "output_type": "stream",
     "text": [
      "35\n",
      "         player  points  assists\n",
      "1  Kevin Durant      35        5\n",
      "2    Chris Paul      33        9\n"
     ]
    }
   ],
   "source": [
    "avg_points = player_data['points'].mean()\n",
    "top_scorer = player_data['points'].max()\n",
    "point_over_avg = player_data[player_data['points'] > avg_points]\n",
    "\n",
    "#print(top_scorer)\n",
    "print(point_over_avg)"
   ]
  }
 ],
 "metadata": {
  "kernelspec": {
   "display_name": "Python 3",
   "language": "python",
   "name": "python3"
  },
  "language_info": {
   "codemirror_mode": {
    "name": "ipython",
    "version": 3
   },
   "file_extension": ".py",
   "mimetype": "text/x-python",
   "name": "python",
   "nbconvert_exporter": "python",
   "pygments_lexer": "ipython3",
   "version": "3.9.5"
  }
 },
 "nbformat": 4,
 "nbformat_minor": 2
}
