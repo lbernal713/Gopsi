{
 "cells": [
  {
   "cell_type": "code",
   "execution_count": 2,
   "metadata": {},
   "outputs": [],
   "source": [
    "import pandas as pd\n",
    "import numpy as np"
   ]
  },
  {
   "cell_type": "code",
   "execution_count": null,
   "metadata": {},
   "outputs": [],
   "source": [
    "pandas.read_csv()"
   ]
  },
  {
   "cell_type": "code",
   "execution_count": 6,
   "metadata": {},
   "outputs": [],
   "source": [
    "predicted_steals = [4,2,3,1]\n",
    "actual_steals = [3,2,1,1]"
   ]
  },
  {
   "cell_type": "code",
   "execution_count": 4,
   "metadata": {},
   "outputs": [],
   "source": [
    "from sklearn.metrics import mean_squared_error"
   ]
  },
  {
   "cell_type": "code",
   "execution_count": 7,
   "metadata": {},
   "outputs": [
    {
     "data": {
      "text/plain": [
       "1.25"
      ]
     },
     "execution_count": 7,
     "metadata": {},
     "output_type": "execute_result"
    }
   ],
   "source": [
    "lin_max = mean_squared_error(predicted_steals, actual_steals)\n",
    "lin_max"
   ]
  },
  {
   "cell_type": "code",
   "execution_count": 10,
   "metadata": {},
   "outputs": [
    {
     "data": {
      "text/plain": [
       "3"
      ]
     },
     "execution_count": 10,
     "metadata": {},
     "output_type": "execute_result"
    }
   ],
   "source": [
    "nba_seasons = ['2015-2016','2016-2017','2017-2018']\n",
    "type(nba_seasons)\n"
   ]
  },
  {
   "cell_type": "code",
   "execution_count": 11,
   "metadata": {},
   "outputs": [
    {
     "data": {
      "text/plain": [
       "3"
      ]
     },
     "execution_count": 11,
     "metadata": {},
     "output_type": "execute_result"
    }
   ],
   "source": [
    "len(nba_seasons)"
   ]
  },
  {
   "cell_type": "code",
   "execution_count": 13,
   "metadata": {},
   "outputs": [
    {
     "name": "stdout",
     "output_type": "stream",
     "text": [
      "2017-2018\n"
     ]
    }
   ],
   "source": [
    "print(nba_seasons[2])"
   ]
  },
  {
   "cell_type": "code",
   "execution_count": 14,
   "metadata": {},
   "outputs": [
    {
     "name": "stdout",
     "output_type": "stream",
     "text": [
      "['2015-2016', '2016-2017', '2017-2018', '2018-2019']\n"
     ]
    }
   ],
   "source": [
    "nba_seasons.append('2018-2019')\n",
    "print(nba_seasons)"
   ]
  },
  {
   "cell_type": "code",
   "execution_count": 18,
   "metadata": {},
   "outputs": [],
   "source": [
    "banana_boat = ['LeBron James','Dwayne Wade','Chris Paul']\n",
    "new_member = 'Carmelo Anthony'"
   ]
  },
  {
   "cell_type": "code",
   "execution_count": 19,
   "metadata": {},
   "outputs": [
    {
     "name": "stdout",
     "output_type": "stream",
     "text": [
      "['LeBron James', 'Dwayne Wade', 'Chris Paul', 'Carmelo Anthony']\n"
     ]
    }
   ],
   "source": [
    "banana_boat.append(new_member)\n",
    "print(banana_boat)"
   ]
  },
  {
   "cell_type": "code",
   "execution_count": 20,
   "metadata": {},
   "outputs": [
    {
     "name": "stdout",
     "output_type": "stream",
     "text": [
      "{'player-name': 'Lebron James', 'team': 'Los Angeles Lakers', 'player-id': 12354, 'season-is': '2023-2024', 'ppg': 27.4}\n"
     ]
    }
   ],
   "source": [
    "lebron_dict = {\n",
    "    'player-name':'Lebron James',\n",
    "    'team':'Los Angeles Lakers',\n",
    "    'player-id':12354,\n",
    "    'season-is':'2023-2024',\n",
    "    'ppg':27.4\n",
    "}\n",
    "\n",
    "print(lebron_dict)"
   ]
  },
  {
   "cell_type": "code",
   "execution_count": 22,
   "metadata": {},
   "outputs": [
    {
     "name": "stdout",
     "output_type": "stream",
     "text": [
      "27.4\n"
     ]
    }
   ],
   "source": [
    "ppg = lebron_dict['ppg']\n",
    "print(ppg)"
   ]
  },
  {
   "cell_type": "code",
   "execution_count": 23,
   "metadata": {},
   "outputs": [
    {
     "name": "stdout",
     "output_type": "stream",
     "text": [
      "{'points': 27, 'assists': 5, 'rebounds': 11}\n"
     ]
    }
   ],
   "source": [
    "lebron_stats = {\n",
    "    'points':27,\n",
    "    'assists':5,\n",
    "    'rebounds':11\n",
    "}\n",
    "print(lebron_stats)"
   ]
  },
  {
   "cell_type": "code",
   "execution_count": 24,
   "metadata": {},
   "outputs": [
    {
     "name": "stdout",
     "output_type": "stream",
     "text": [
      "5\n"
     ]
    }
   ],
   "source": [
    "print(lebron_stats['assists'])"
   ]
  },
  {
   "cell_type": "code",
   "execution_count": 30,
   "metadata": {},
   "outputs": [
    {
     "name": "stdout",
     "output_type": "stream",
     "text": [
      "LeBron James \n",
      "\n",
      "Dwayne Wade \n",
      "\n",
      "Carmelo Anthony \n",
      "\n"
     ]
    }
   ],
   "source": [
    "for player in banana_boat:\n",
    "    if player == 'Chris Paul':\n",
    "        continue\n",
    "    print(player,'\\n')"
   ]
  },
  {
   "cell_type": "code",
   "execution_count": 32,
   "metadata": {},
   "outputs": [
    {
     "name": "stdout",
     "output_type": "stream",
     "text": [
      "player-name : Lebron James\n",
      "team : Los Angeles Lakers\n",
      "player-id : 12354\n",
      "season-is : 2023-2024\n",
      "ppg : 27.4\n"
     ]
    }
   ],
   "source": [
    "for key,value in lebron_dict.items():\n",
    "    print(key,':',value)"
   ]
  },
  {
   "cell_type": "code",
   "execution_count": null,
   "metadata": {},
   "outputs": [],
   "source": []
  }
 ],
 "metadata": {
  "kernelspec": {
   "display_name": "Python 3",
   "language": "python",
   "name": "python3"
  },
  "language_info": {
   "codemirror_mode": {
    "name": "ipython",
    "version": 3
   },
   "file_extension": ".py",
   "mimetype": "text/x-python",
   "name": "python",
   "nbconvert_exporter": "python",
   "pygments_lexer": "ipython3",
   "version": "3.9.5"
  }
 },
 "nbformat": 4,
 "nbformat_minor": 2
}
